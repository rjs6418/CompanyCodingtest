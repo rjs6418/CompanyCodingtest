{
 "cells": [
  {
   "cell_type": "code",
   "execution_count": 213,
   "metadata": {},
   "outputs": [
    {
     "name": "stdout",
     "output_type": "stream",
     "text": [
      "22/10/12 01:48:43 WARN SparkSession: Using an existing Spark session; only runtime SQL configurations will take effect.\n"
     ]
    }
   ],
   "source": [
    "\n",
    "from pyspark.sql import SparkSession\n",
    "\n",
    "MAX_MEMORY = \"12g\"\n",
    "spark = SparkSession.builder.appName(\"sql-query\")\\\n",
    "    .config(\"spark.executor.memory\", MAX_MEMORY)\\\n",
    "    .config(\"spark.driver.memory\", MAX_MEMORY)\\\n",
    "    .getOrCreate()\n",
    "    \n",
    "sc = spark.sparkContext"
   ]
  },
  {
   "cell_type": "code",
   "execution_count": 214,
   "metadata": {},
   "outputs": [
    {
     "name": "stderr",
     "output_type": "stream",
     "text": [
      "                                                                                \r"
     ]
    }
   ],
   "source": [
    "parquet_directory = \"/Users/kuno/code/test/payhere/Q2/CAI_parquet1\"\n",
    "df1 = spark.read.parquet(f\"{parquet_directory}\")\n",
    "parquet_directory = \"/Users/kuno/code/test/payhere/Q2/CAI_parquet2\"\n",
    "df2 = spark.read.parquet(f\"{parquet_directory}\")"
   ]
  },
  {
   "cell_type": "code",
   "execution_count": 215,
   "metadata": {},
   "outputs": [],
   "source": [
    "col_list = [\"상가업소번호\", \"상호명\", \"지점명\", \"상권업종대분류코드\", \"상권업종대분류명\", \"상권업종중분류코드\", \"상권업종중분류명\", \"상권업종소분류코드\", \"상권업종소분류명\", \"표준산업분류코드\", \"표준산업분류명\", \"시도코드\", \"시도명\", \"시군구코드\", \"시군구명\", \"행정동코드\", \"행정동명\", \"법정동코드\", \"법정동명\", \"지번코드\", \"대지구분코드\", \"대지구분명\", \"지번본번지\", \"지번부번지\", \"지번주소\", \"도로명코드\", \"도로명\", \"건물본번지\", \"건물부번지\", \"건물관리번호\", \"건물명\", \"도로명주소\", \"구우편번호\", \"신우편번호\", \"동정보\", \"층정보\", \"호정보\", \"경도\", \"위도\"]\n",
    "i = 0\n",
    "for col in col_list:\n",
    "    i += 1\n",
    "    df1 = df1.withColumnRenamed(col,f\"col{i}\") \n",
    "    df2 = df2.withColumnRenamed(col,f\"col{i}\") \n"
   ]
  },
  {
   "cell_type": "code",
   "execution_count": null,
   "metadata": {},
   "outputs": [],
   "source": [
    "df1.dtypes\n",
    "df2.dtypes"
   ]
  },
  {
   "cell_type": "code",
   "execution_count": 217,
   "metadata": {},
   "outputs": [],
   "source": [
    "df1.createOrReplaceTempView(\"CAI1\")\n",
    "df2.createOrReplaceTempView(\"CAI2\")"
   ]
  },
  {
   "cell_type": "code",
   "execution_count": 218,
   "metadata": {},
   "outputs": [
    {
     "name": "stdout",
     "output_type": "stream",
     "text": [
      "+--------+--------------+----+----+---------+----+------------+------+----------+------+--------------+-----+------+-----+------+----------+-------+----------+------+-------------------+-----+-----+-----+-----+--------------------------+------------+--------------------+-----+-----+--------------------+-----+------------------------+------+-----+-----+-----+-----+----------------+----------------+\n",
      "|    col1|          col2|col3|col4|     col5|col6|        col7|  col8|      col9| col10|         col11|col12| col13|col14| col15|     col16|  col17|     col18| col19|              col20|col21|col22|col23|col24|                     col25|       col26|               col27|col28|col29|               col30|col31|                   col32| col33|col34|col35|col36|col37|           col38|           col39|\n",
      "+--------+--------------+----+----+---------+----+------------+------+----------+------+--------------+-----+------+-----+------+----------+-------+----------+------+-------------------+-----+-----+-----+-----+--------------------------+------------+--------------------+-----+-----+--------------------+-----+------------------------+------+-----+-----+-----+-----+----------------+----------------+\n",
      "|20713599|눈높이러닝센타|null|   R|학문/교육| R13|학문교육기타|R13A01|학습지보급|P85503|방문 교육 학원|   41|경기도|41210|광명시|4121054000|광명3동|4121010100|광명동|4121010100101490006|    1| 대지|  149|    6|경기도 광명시 광명동 149-6|412103000022|경기도 광명시 오리로|  946| null|41210101001014900...| null|경기도 광명시 오리로 946|423010|14221| null| null| null|126.858146700047|37.4785298052736|\n",
      "+--------+--------------+----+----+---------+----+------------+------+----------+------+--------------+-----+------+-----+------+----------+-------+----------+------+-------------------+-----+-----+-----+-----+--------------------------+------------+--------------------+-----+-----+--------------------+-----+------------------------+------+-----+-----+-----+-----+----------------+----------------+\n",
      "only showing top 1 row\n",
      "\n"
     ]
    }
   ],
   "source": [
    "query = \"SELECT * FROM CAI2\"\n",
    "spark.sql(query).show(1)"
   ]
  },
  {
   "cell_type": "code",
   "execution_count": 219,
   "metadata": {},
   "outputs": [
    {
     "name": "stdout",
     "output_type": "stream",
     "text": [
      "+--------------+---------------+\n",
      "|          AREA|commercialcount|\n",
      "+--------------+---------------+\n",
      "|        경기도|         546552|\n",
      "|    서울특별시|         346229|\n",
      "|      충청남도|         118462|\n",
      "|    부산광역시|         152901|\n",
      "|      전라남도|         115271|\n",
      "|      경상남도|         160655|\n",
      "|      경상북도|         137554|\n",
      "|      전라북도|         111568|\n",
      "|    인천광역시|         115771|\n",
      "|        강원도|         105784|\n",
      "|      충청북도|          91856|\n",
      "|    대구광역시|         104065|\n",
      "|    광주광역시|          73821|\n",
      "|    대전광역시|          73036|\n",
      "|    울산광역시|          47907|\n",
      "|세종특별자치시|          11932|\n",
      "|제주특별자치도|          50630|\n",
      "+--------------+---------------+\n",
      "\n"
     ]
    }
   ],
   "source": [
    "# 시도 별 상가 점포수\n",
    "\n",
    "query = \"\"\"\n",
    "SELECT col13 AS AREA,\n",
    "       COUNT(col1) AS commercialcount\n",
    "FROM CAI2\n",
    "GROUP BY col13\n",
    "\"\"\"\n",
    "\n",
    "df = spark.sql(query)\n",
    "df.show()"
   ]
  },
  {
   "cell_type": "code",
   "execution_count": 220,
   "metadata": {},
   "outputs": [
    {
     "name": "stdout",
     "output_type": "stream",
     "text": [
      "+----------+---------------+---------------+\n",
      "|      AREA|         AREA_m|commercialcount|\n",
      "+----------+---------------+---------------+\n",
      "|    경기도|  용인시 처인구|          12555|\n",
      "|서울특별시|         서초구|          20069|\n",
      "|    경기도|       동두천시|           4762|\n",
      "|    경기도|  안산시 상록구|          12614|\n",
      "|서울특별시|         양천구|          11960|\n",
      "|    경기도|         김포시|          20651|\n",
      "|    경기도|  성남시 중원구|           9207|\n",
      "|    경기도|고양시 일산동구|          12346|\n",
      "|    경기도|         오산시|           9356|\n",
      "|    경기도|         여주시|           6490|\n",
      "|    경기도|         군포시|           7074|\n",
      "|서울특별시|         관악구|          12606|\n",
      "|서울특별시|         성북구|          11872|\n",
      "|    경기도|         광명시|           9499|\n",
      "|    경기도|         부천시|          29017|\n",
      "|    경기도|         광주시|          17293|\n",
      "|    경기도|         포천시|          10946|\n",
      "|서울특별시|         금천구|           9715|\n",
      "|    경기도|         안성시|           8893|\n",
      "|    경기도|         과천시|           1997|\n",
      "+----------+---------------+---------------+\n",
      "only showing top 20 rows\n",
      "\n"
     ]
    },
    {
     "name": "stderr",
     "output_type": "stream",
     "text": [
      "                                                                                \r"
     ]
    }
   ],
   "source": [
    "# 시군구 별 상가 점포수\n",
    "\n",
    "query = \"\"\"\n",
    "SELECT col13 AS AREA,\n",
    "       col15 AS AREA_m,\n",
    "       COUNT(col1) AS commercialcount\n",
    "FROM CAI2\n",
    "GROUP BY col13, col15\n",
    "\"\"\"\n",
    "\n",
    "df = spark.sql(query)\n",
    "df.show()"
   ]
  },
  {
   "cell_type": "code",
   "execution_count": 221,
   "metadata": {},
   "outputs": [
    {
     "name": "stdout",
     "output_type": "stream",
     "text": [
      "+--------------+---------------+\n",
      "|     commecial|commercialcount|\n",
      "+--------------+---------------+\n",
      "|          숙박|          41393|\n",
      "|          음식|         797182|\n",
      "|    생활서비스|         428890|\n",
      "|          소매|         754830|\n",
      "|        스포츠|          29281|\n",
      "|관광/여가/오락|          53313|\n",
      "|        부동산|          95870|\n",
      "|     학문/교육|         163235|\n",
      "+--------------+---------------+\n",
      "\n"
     ]
    }
   ],
   "source": [
    "# 전국 점포 유형\n",
    "\n",
    "query = \"\"\"\n",
    "SELECT col5 AS commecial,\n",
    "       COUNT(col1) AS commercialcount\n",
    "FROM CAI2\n",
    "GROUP BY col5\n",
    "\"\"\"\n",
    "\n",
    "df = spark.sql(query)\n",
    "df.show()"
   ]
  },
  {
   "cell_type": "code",
   "execution_count": 222,
   "metadata": {},
   "outputs": [
    {
     "name": "stdout",
     "output_type": "stream",
     "text": [
      "+--------------+-----------------------+---------------+\n",
      "|     commecial|            commecial_m|commercialcount|\n",
      "+--------------+-----------------------+---------------+\n",
      "|          소매|        중고품소매/교환|           7697|\n",
      "|    생활서비스|      개인/가정용품수리|          19815|\n",
      "|          음식|            닭/오리요리|          49240|\n",
      "|    생활서비스|              광고/인쇄|          15840|\n",
      "|     학문/교육|           학문교육기타|           2946|\n",
      "|          소매| 사진/광학/정밀기기소매|          31842|\n",
      "|          소매|           종교용품판매|            410|\n",
      "|관광/여가/오락|            스포츠/운동|            476|\n",
      "|          소매|        의약/의료품소매|           9147|\n",
      "|        스포츠|           실외운동시설|           2181|\n",
      "|          소매|예술품/골동품/수석/분재|           3890|\n",
      "|        스포츠|           실내운동시설|          24223|\n",
      "|    생활서비스|                   사진|          15338|\n",
      "|관광/여가/오락|     경마/경륜/성인오락|           1187|\n",
      "|          음식|            커피점/카페|         110455|\n",
      "|          소매|             기타판매업|          19707|\n",
      "|     학문/교육|     학원-자격/국가고시|           2189|\n",
      "|    생활서비스|        세탁/가사서비스|          53489|\n",
      "|          소매|          건강/미용식품|          24054|\n",
      "|    생활서비스|                 대행업|           8216|\n",
      "+--------------+-----------------------+---------------+\n",
      "only showing top 20 rows\n",
      "\n"
     ]
    }
   ],
   "source": [
    "# 전국 점포 세부 유형\n",
    "query = \"\"\"\n",
    "SELECT col5 AS commecial,\n",
    "       col7 AS commecial_m,\n",
    "       COUNT(col1) AS commercialcount\n",
    "FROM CAI2\n",
    "GROUP BY col5, col7\n",
    "\"\"\"\n",
    "\n",
    "df = spark.sql(query)\n",
    "df.show()"
   ]
  },
  {
   "cell_type": "code",
   "execution_count": 223,
   "metadata": {},
   "outputs": [
    {
     "name": "stderr",
     "output_type": "stream",
     "text": [
      "[Stage 233:==========================================>              (3 + 1) / 4]\r"
     ]
    },
    {
     "name": "stdout",
     "output_type": "stream",
     "text": [
      "+--------------+-----------------+------------------+---------------+\n",
      "|     commecial|      commecial_m|       commecial_s|commercialcount|\n",
      "+--------------+-----------------+------------------+---------------+\n",
      "|    생활서비스|             사진|          상업사진|           1532|\n",
      "|     학문/교육|학원-예능취미체육|  학원-펜글씨/한문|            289|\n",
      "|     학문/교육|         학원기타|      운전연수전문|            165|\n",
      "|관광/여가/오락|      스포츠/운동|    서바이벌게임장|             20|\n",
      "|    생활서비스|     기타서비스업| 조감도/투시도전문|             11|\n",
      "|          소매|    음/식료품소매|          식료품점|          22244|\n",
      "|        스포츠|     운영관리시설|      기타운영설비|           2029|\n",
      "|          소매|자동차/자동차용품|    중고타이어판매|            447|\n",
      "|    생활서비스|         주택수리|          수도설비|           1473|\n",
      "|    생활서비스|개인/가정용품수리|          악기수선|            120|\n",
      "|          소매|운동/경기용품소매|인라인스케이트판매|             21|\n",
      "|          음식|             한식|            냉면집|           3219|\n",
      "|     학문/교육|         유아교육|   실내놀이터-유아|            713|\n",
      "|          소매|         의복의류|   맞춤양장/양장점|           5839|\n",
      "|          음식|             한식|          파전전문|            706|\n",
      "|        스포츠|     실외운동시설|      패러글라이딩|             19|\n",
      "|          음식|       패스트푸드|          생과자점|            104|\n",
      "|     학문/교육|학원-예능취미체육|         학원-서당|            112|\n",
      "|          소매|       기타판매업|          미싱판매|            250|\n",
      "|    생활서비스|        광고/인쇄|      간판제작종합|           2844|\n",
      "+--------------+-----------------+------------------+---------------+\n",
      "only showing top 20 rows\n",
      "\n"
     ]
    },
    {
     "name": "stderr",
     "output_type": "stream",
     "text": [
      "                                                                                \r"
     ]
    }
   ],
   "source": [
    "# 전국 점포 세부 유형\n",
    "\n",
    "query = \"\"\"\n",
    "SELECT col5 AS commecial,\n",
    "       col7 AS commecial_m,\n",
    "       col9 AS commecial_s,\n",
    "       COUNT(col1) AS commercialcount\n",
    "FROM CAI2\n",
    "GROUP BY col5, col7, col9\n",
    "\"\"\"\n",
    "\n",
    "df = spark.sql(query)\n",
    "df.show()"
   ]
  },
  {
   "cell_type": "code",
   "execution_count": 224,
   "metadata": {},
   "outputs": [
    {
     "name": "stdout",
     "output_type": "stream",
     "text": [
      "+----------+--------------+------+\n",
      "|commercial|          AREA| count|\n",
      "+----------+--------------+------+\n",
      "|    경기도|          소매|170840|\n",
      "|서울특별시|          음식|117033|\n",
      "|    경기도|    생활서비스|101963|\n",
      "|    경기도|        스포츠|  7690|\n",
      "|서울특별시|        스포츠|  5175|\n",
      "|서울특별시|        부동산| 17356|\n",
      "|서울특별시|          소매|101805|\n",
      "|    경기도|        부동산| 29132|\n",
      "|    경기도|          음식|174428|\n",
      "|서울특별시|관광/여가/오락|  8404|\n",
      "|    경기도|     학문/교육| 43507|\n",
      "|서울특별시|    생활서비스| 69233|\n",
      "|서울특별시|     학문/교육| 24903|\n",
      "|서울특별시|          숙박|  2320|\n",
      "|    경기도|관광/여가/오락| 13148|\n",
      "|    경기도|          숙박|  5844|\n",
      "|  전라남도|          음식| 39428|\n",
      "|  전라남도|          숙박|  3729|\n",
      "|  전라남도|    생활서비스| 18335|\n",
      "|  충청남도|          숙박|  3121|\n",
      "+----------+--------------+------+\n",
      "only showing top 20 rows\n",
      "\n"
     ]
    }
   ],
   "source": [
    "# 시도별 점포 유형\n",
    "\n",
    "query = \"\"\"\n",
    "SELECT col13 AS commercial,\n",
    "       col5 AS AREA,\n",
    "       COUNT(col1) AS count\n",
    "FROM CAI2\n",
    "GROUP BY col13, col5\n",
    "\"\"\"\n",
    "\n",
    "df = spark.sql(query)\n",
    "df.show()"
   ]
  },
  {
   "cell_type": "code",
   "execution_count": 231,
   "metadata": {},
   "outputs": [
    {
     "name": "stderr",
     "output_type": "stream",
     "text": [
      "                                                                                \r"
     ]
    },
    {
     "name": "stdout",
     "output_type": "stream",
     "text": [
      "+-----------------------+------+------+\n",
      "|             commercial|    Q1|    Q2|\n",
      "+-----------------------+------+------+\n",
      "|          음/식료품소매|107572|111035|\n",
      "|            커피점/카페|106862|110455|\n",
      "|                   중식| 23731| 24304|\n",
      "|     학원-자격/국가고시|  2206|  2189|\n",
      "|            스포츠/운동|   393|   476|\n",
      "|           기타서비스업| 11426| 17898|\n",
      "|               유흥주점| 78822| 79477|\n",
      "|      취미/오락관련소매|  4190|  4166|\n",
      "|               학원기타| 33422| 35154|\n",
      "|               가구소매| 14093| 14004|\n",
      "|예술품/골동품/수석/분재|  3574|  3890|\n",
      "|               의복의류| 92932| 95223|\n",
      "|         놀이/여가/취미|  1288|  1458|\n",
      "|                   분양|  2489|  8318|\n",
      "|           이/미용/건강|164699|168230|\n",
      "|                   사진| 13956| 15338|\n",
      "|       선물/팬시/기념품| 25142| 27252|\n",
      "|      개인/가정용품수리| 17906| 19815|\n",
      "|     가정/주방/인테리어| 72541| 72728|\n",
      "|            일식/수산물| 61427| 61355|\n",
      "+-----------------------+------+------+\n",
      "only showing top 20 rows\n",
      "\n"
     ]
    }
   ],
   "source": [
    "# 전국 업종, 분기별 점포 추이\n",
    "\n",
    "query = \"\"\"\n",
    "SELECT t2.col7 AS commercial, t1.count AS Q1, t2.count AS Q2\n",
    "FROM (SELECT col7, COUNT(col1) AS count FROM CAI2 GROUP BY col7 ) t2\n",
    "JOIN (SELECT col7, COUNT(col1) AS count FROM CAI1 GROUP BY col7 ) t1\n",
    "ON t2.col7 = t1.col7;\n",
    "\"\"\"\n",
    "\n",
    "df = spark.sql(query)\n",
    "df.show()"
   ]
  },
  {
   "cell_type": "code",
   "execution_count": 232,
   "metadata": {},
   "outputs": [
    {
     "name": "stderr",
     "output_type": "stream",
     "text": [
      "                                                                                \r"
     ]
    },
    {
     "name": "stdout",
     "output_type": "stream",
     "text": [
      "+--------------+-------------------+---+---+\n",
      "|          Area|         commercial| Q1| Q2|\n",
      "+--------------+-------------------+---+---+\n",
      "|    대전광역시|           유아용품|194| 58|\n",
      "|    광주광역시|           유아용품|194| 49|\n",
      "|제주특별자치도|           유아용품|194| 27|\n",
      "|세종특별자치시|           유아용품|194| 13|\n",
      "|    울산광역시|           유아용품|194| 37|\n",
      "|    인천광역시|           유아용품|194| 93|\n",
      "|      전라북도|           유아용품|194| 90|\n",
      "|      충청북도|           유아용품|194| 81|\n",
      "|        강원도|           유아용품|194| 74|\n",
      "|    대구광역시|           유아용품|194| 74|\n",
      "|    부산광역시|           유아용품|194|116|\n",
      "|      경상북도|           유아용품|194| 84|\n",
      "|      경상남도|           유아용품|194| 88|\n",
      "|      충청남도|           유아용품|194| 66|\n",
      "|      전라남도|           유아용품|194| 66|\n",
      "|        경기도|           유아용품|194|536|\n",
      "|    서울특별시|           유아용품|194|190|\n",
      "|세종특별자치시|페인트/유리제품소매|431| 11|\n",
      "|    광주광역시|페인트/유리제품소매|431|150|\n",
      "|제주특별자치도|페인트/유리제품소매|431| 96|\n",
      "+--------------+-------------------+---+---+\n",
      "only showing top 20 rows\n",
      "\n"
     ]
    }
   ],
   "source": [
    "# 시도, 업종, 분기별 점포 추이\n",
    "\n",
    "query = \"\"\"\n",
    "SELECT t2.col13 AS Area, t2.col7 AS commercial, t1.count AS Q1, t2.count AS Q2\n",
    "FROM (SELECT col13, col7, COUNT(col1) AS count FROM CAI2 GROUP BY col13, col7 ) t2\n",
    "JOIN (SELECT col13, col7, COUNT(col1) AS count FROM CAI1 GROUP BY col13, col7 ) t1\n",
    "ON t2.col7 = t1.col7 AND t2.col13 = t2.col13;\n",
    "\"\"\"\n",
    "\n",
    "df = spark.sql(query)\n",
    "df.show()"
   ]
  },
  {
   "cell_type": "code",
   "execution_count": 306,
   "metadata": {},
   "outputs": [
    {
     "name": "stdout",
     "output_type": "stream",
     "text": [
      "+------------------+----+-----+----------+\n",
      "|        commercial|OPEN|CLOSE|Transition|\n",
      "+------------------+----+-----+----------+\n",
      "|              한식| 406|  133|       273|\n",
      "|          주택수리| 272|   32|       240|\n",
      "|            대행업| 205|    1|       204|\n",
      "|              분양| 164|    1|       163|\n",
      "|      기타서비스업| 138|    8|       130|\n",
      "|      이/미용/건강| 202|   80|       122|\n",
      "|        부동산중개| 164|   48|       116|\n",
      "|       커피점/카페| 184|   70|       114|\n",
      "|     음/식료품소매| 178|   85|        93|\n",
      "|          의복의류| 135|   54|        81|\n",
      "|  선물/팬시/기념품|  87|   16|        71|\n",
      "|        기타판매업|  62|    2|        60|\n",
      "|          유흥주점| 117|   65|        52|\n",
      "| 개인/가정용품수리|  54|    7|        47|\n",
      "|   세탁/가사서비스|  62|   17|        45|\n",
      "|        화장품소매|  62|   19|        43|\n",
      "|          학원기타|  61|   19|        42|\n",
      "| 자동차/자동차용품|  48|    9|        39|\n",
      "|     자동차/이륜차|  55|   20|        35|\n",
      "|인력/고용/용역알선|  36|    2|        34|\n",
      "+------------------+----+-----+----------+\n",
      "only showing top 20 rows\n",
      "\n"
     ]
    }
   ],
   "source": [
    "# 광주광역시 업종별 개폐업 점포 수 및 추이\n",
    "\n",
    "query = \"\"\"\n",
    "SELECT op.*, CLOSE, OPEN - CLOSE AS Transition \n",
    "FROM (SELECT t2.col7 AS commercial,\n",
    "             COUNT(DISTINCT CASE WHEN t1.col1 IS NULL THEN t2.col1 ELSE NULL END) AS OPEN\n",
    "      FROM (SELECT * FROM CAI2 WHERE col12 = 29) t2\n",
    "      LEFT JOIN (SELECT * FROM CAI1 WHERE col12 = 29) t1\n",
    "             ON t2.col1 = t1.col1 \n",
    "      GROUP BY t2.col7) op\n",
    "JOIN (SELECT t1.col7 AS commercial,\n",
    "             COUNT(DISTINCT CASE WHEN t2.col1 IS NULL THEN t1.col1 ELSE NULL END) AS CLOSE\n",
    "      FROM (SELECT * FROM CAI2 WHERE col12 = 29) t2\n",
    "      RIGHT JOIN (SELECT * FROM CAI1 WHERE col12 = 29) t1\n",
    "             ON t2.col1 = t1.col1 \n",
    "      GROUP BY t1.col7) cl\n",
    "ON op.commercial = cl.commercial\n",
    "ORDER BY Transition DESC;\n",
    "\"\"\"\n",
    "\n",
    "df = spark.sql(query)\n",
    "df.show()"
   ]
  },
  {
   "cell_type": "code",
   "execution_count": null,
   "metadata": {},
   "outputs": [],
   "source": []
  }
 ],
 "metadata": {
  "kernelspec": {
   "display_name": "Python 3.9.12 ('base')",
   "language": "python",
   "name": "python3"
  },
  "language_info": {
   "codemirror_mode": {
    "name": "ipython",
    "version": 3
   },
   "file_extension": ".py",
   "mimetype": "text/x-python",
   "name": "python",
   "nbconvert_exporter": "python",
   "pygments_lexer": "ipython3",
   "version": "3.9.12"
  },
  "orig_nbformat": 4,
  "vscode": {
   "interpreter": {
    "hash": "3b6994fbfc635b831de00e7ed1e58d2dbf80a60c8f648f8869e00a1035c9680e"
   }
  }
 },
 "nbformat": 4,
 "nbformat_minor": 2
}
